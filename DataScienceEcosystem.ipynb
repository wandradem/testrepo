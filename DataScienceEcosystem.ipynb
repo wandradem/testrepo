{
 "cells": [
  {
   "cell_type": "markdown",
   "id": "cdb72c3c-22d7-4199-ab8e-c4142a36ae0b",
   "metadata": {},
   "source": [
    "# Data Science Tools and Ecosystem\n"
   ]
  },
  {
   "cell_type": "markdown",
   "id": "83f479aa-6a3b-4434-a111-c5dece2490cf",
   "metadata": {},
   "source": [
    "In this notebook, Data Science Tools and Ecosystem are summarized."
   ]
  },
  {
   "cell_type": "markdown",
   "id": "3a5e3e77-3a11-474d-803e-2972890aae18",
   "metadata": {},
   "source": [
    "<b>Objectives:</b> List popular languages for Data Science"
   ]
  },
  {
   "cell_type": "markdown",
   "id": "c40dd137-acc6-4048-9cc7-02ef39fb3377",
   "metadata": {},
   "source": [
    "- Python\n",
    "- R\n",
    "- SQL\n",
    "- Julia\n",
    "- Scala"
   ]
  },
  {
   "cell_type": "markdown",
   "id": "9e68c41e-1426-45db-8535-9f9a5b4b93ae",
   "metadata": {},
   "source": [
    "Some of the popular languages that Data Scientists use are:"
   ]
  },
  {
   "cell_type": "markdown",
   "id": "ba9b4d7d-9b06-4d5a-97d8-8154b9f04ec3",
   "metadata": {},
   "source": [
    "1. Phyton\n",
    "2. R\n",
    "3. SQL\n",
    "4. Java"
   ]
  },
  {
   "cell_type": "markdown",
   "id": "aa5a0c65-4d54-450a-97bf-b2d2ebf143ac",
   "metadata": {},
   "source": [
    "Some of the commonly used libraries used by Data Scientists include:"
   ]
  },
  {
   "cell_type": "markdown",
   "id": "debea935-fed9-41d1-ad24-91ccf6267ab9",
   "metadata": {},
   "source": [
    "1. Pandas\n",
    "2. NumPy\n",
    "3. Matplotlib\n",
    "4. Tensorflow"
   ]
  },
  {
   "cell_type": "markdown",
   "id": "bb1190f1-b061-405e-a1db-8c6b85115408",
   "metadata": {},
   "source": [
    "|Data Science Tools|\r\n",
    "|------------------|\r\n",
    "|Jupyter Notebook|\r\n",
    "|RStudio|\r\n",
    "|Spyder|"
   ]
  },
  {
   "cell_type": "markdown",
   "id": "8191b35a-f432-4ad2-8206-65432b1d218e",
   "metadata": {},
   "source": [
    "<h3>Below are a few examples of evaluating arithmetic expressions in Python</h3>"
   ]
  },
  {
   "cell_type": "code",
   "execution_count": 31,
   "id": "5fa49d52-43fe-4037-832d-50a3130e05f4",
   "metadata": {},
   "outputs": [
    {
     "data": {
      "text/plain": [
       "17"
      ]
     },
     "execution_count": 31,
     "metadata": {},
     "output_type": "execute_result"
    }
   ],
   "source": [
    "# This a simple arithmetic expression to mutiply then add integer\n",
    "\n",
    "(3*4)+5"
   ]
  },
  {
   "cell_type": "code",
   "execution_count": 33,
   "id": "904088d7-a321-4ba5-8df8-fb84314cde65",
   "metadata": {},
   "outputs": [
    {
     "data": {
      "text/plain": [
       "3.3333333333333335"
      ]
     },
     "execution_count": 33,
     "metadata": {},
     "output_type": "execute_result"
    }
   ],
   "source": [
    "# This will convert 200 minutes to hours by diving by 60\n",
    "\n",
    "200/60"
   ]
  },
  {
   "cell_type": "markdown",
   "id": "965c47c7-03e7-4ebc-bb2f-2f24fa940b91",
   "metadata": {},
   "source": [
    "<h2>Author</h2>"
   ]
  },
  {
   "cell_type": "markdown",
   "id": "8750a713-1cc2-4f1b-8c97-863b0d21ff06",
   "metadata": {},
   "source": [
    "Wilson Andrade Molina"
   ]
  },
  {
   "cell_type": "code",
   "execution_count": null,
   "id": "d650db41-1456-48e4-9de2-b9695709644e",
   "metadata": {},
   "outputs": [],
   "source": []
  }
 ],
 "metadata": {
  "kernelspec": {
   "display_name": "Python 3 (ipykernel)",
   "language": "python",
   "name": "python3"
  },
  "language_info": {
   "codemirror_mode": {
    "name": "ipython",
    "version": 3
   },
   "file_extension": ".py",
   "mimetype": "text/x-python",
   "name": "python",
   "nbconvert_exporter": "python",
   "pygments_lexer": "ipython3",
   "version": "3.12.4"
  }
 },
 "nbformat": 4,
 "nbformat_minor": 5
}
